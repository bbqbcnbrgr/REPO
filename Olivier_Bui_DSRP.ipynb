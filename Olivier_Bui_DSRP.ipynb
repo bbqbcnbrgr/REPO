{
  "nbformat": 4,
  "nbformat_minor": 0,
  "metadata": {
    "colab": {
      "provenance": [],
      "authorship_tag": "ABX9TyNKRTskh+Pb0KWA5jz2Wq7+",
      "include_colab_link": true
    },
    "kernelspec": {
      "name": "python3",
      "display_name": "Python 3"
    },
    "language_info": {
      "name": "python"
    }
  },
  "cells": [
    {
      "cell_type": "markdown",
      "metadata": {
        "id": "view-in-github",
        "colab_type": "text"
      },
      "source": [
        "<a href=\"https://colab.research.google.com/github/bbqbcnbrgr/REPO/blob/main/Olivier_Bui_DSRP.ipynb\" target=\"_parent\"><img src=\"https://colab.research.google.com/assets/colab-badge.svg\" alt=\"Open In Colab\"/></a>"
      ]
    },
    {
      "cell_type": "code",
      "execution_count": 1,
      "metadata": {
        "colab": {
          "base_uri": "https://localhost:8080/",
          "height": 263
        },
        "id": "EI3DBSKh7RtR",
        "outputId": "2e9e06d7-1e0a-4c5e-879b-b26ed4e4f63e"
      },
      "outputs": [
        {
          "output_type": "display_data",
          "data": {
            "text/plain": [
              "<IPython.core.display.HTML object>"
            ],
            "text/html": [
              "\n",
              "     <input type=\"file\" id=\"files-38060a6f-26e8-42cf-ad08-7b30b6b469ed\" name=\"files[]\" multiple disabled\n",
              "        style=\"border:none\" />\n",
              "     <output id=\"result-38060a6f-26e8-42cf-ad08-7b30b6b469ed\">\n",
              "      Upload widget is only available when the cell has been executed in the\n",
              "      current browser session. Please rerun this cell to enable.\n",
              "      </output>\n",
              "      <script>// Copyright 2017 Google LLC\n",
              "//\n",
              "// Licensed under the Apache License, Version 2.0 (the \"License\");\n",
              "// you may not use this file except in compliance with the License.\n",
              "// You may obtain a copy of the License at\n",
              "//\n",
              "//      http://www.apache.org/licenses/LICENSE-2.0\n",
              "//\n",
              "// Unless required by applicable law or agreed to in writing, software\n",
              "// distributed under the License is distributed on an \"AS IS\" BASIS,\n",
              "// WITHOUT WARRANTIES OR CONDITIONS OF ANY KIND, either express or implied.\n",
              "// See the License for the specific language governing permissions and\n",
              "// limitations under the License.\n",
              "\n",
              "/**\n",
              " * @fileoverview Helpers for google.colab Python module.\n",
              " */\n",
              "(function(scope) {\n",
              "function span(text, styleAttributes = {}) {\n",
              "  const element = document.createElement('span');\n",
              "  element.textContent = text;\n",
              "  for (const key of Object.keys(styleAttributes)) {\n",
              "    element.style[key] = styleAttributes[key];\n",
              "  }\n",
              "  return element;\n",
              "}\n",
              "\n",
              "// Max number of bytes which will be uploaded at a time.\n",
              "const MAX_PAYLOAD_SIZE = 100 * 1024;\n",
              "\n",
              "function _uploadFiles(inputId, outputId) {\n",
              "  const steps = uploadFilesStep(inputId, outputId);\n",
              "  const outputElement = document.getElementById(outputId);\n",
              "  // Cache steps on the outputElement to make it available for the next call\n",
              "  // to uploadFilesContinue from Python.\n",
              "  outputElement.steps = steps;\n",
              "\n",
              "  return _uploadFilesContinue(outputId);\n",
              "}\n",
              "\n",
              "// This is roughly an async generator (not supported in the browser yet),\n",
              "// where there are multiple asynchronous steps and the Python side is going\n",
              "// to poll for completion of each step.\n",
              "// This uses a Promise to block the python side on completion of each step,\n",
              "// then passes the result of the previous step as the input to the next step.\n",
              "function _uploadFilesContinue(outputId) {\n",
              "  const outputElement = document.getElementById(outputId);\n",
              "  const steps = outputElement.steps;\n",
              "\n",
              "  const next = steps.next(outputElement.lastPromiseValue);\n",
              "  return Promise.resolve(next.value.promise).then((value) => {\n",
              "    // Cache the last promise value to make it available to the next\n",
              "    // step of the generator.\n",
              "    outputElement.lastPromiseValue = value;\n",
              "    return next.value.response;\n",
              "  });\n",
              "}\n",
              "\n",
              "/**\n",
              " * Generator function which is called between each async step of the upload\n",
              " * process.\n",
              " * @param {string} inputId Element ID of the input file picker element.\n",
              " * @param {string} outputId Element ID of the output display.\n",
              " * @return {!Iterable<!Object>} Iterable of next steps.\n",
              " */\n",
              "function* uploadFilesStep(inputId, outputId) {\n",
              "  const inputElement = document.getElementById(inputId);\n",
              "  inputElement.disabled = false;\n",
              "\n",
              "  const outputElement = document.getElementById(outputId);\n",
              "  outputElement.innerHTML = '';\n",
              "\n",
              "  const pickedPromise = new Promise((resolve) => {\n",
              "    inputElement.addEventListener('change', (e) => {\n",
              "      resolve(e.target.files);\n",
              "    });\n",
              "  });\n",
              "\n",
              "  const cancel = document.createElement('button');\n",
              "  inputElement.parentElement.appendChild(cancel);\n",
              "  cancel.textContent = 'Cancel upload';\n",
              "  const cancelPromise = new Promise((resolve) => {\n",
              "    cancel.onclick = () => {\n",
              "      resolve(null);\n",
              "    };\n",
              "  });\n",
              "\n",
              "  // Wait for the user to pick the files.\n",
              "  const files = yield {\n",
              "    promise: Promise.race([pickedPromise, cancelPromise]),\n",
              "    response: {\n",
              "      action: 'starting',\n",
              "    }\n",
              "  };\n",
              "\n",
              "  cancel.remove();\n",
              "\n",
              "  // Disable the input element since further picks are not allowed.\n",
              "  inputElement.disabled = true;\n",
              "\n",
              "  if (!files) {\n",
              "    return {\n",
              "      response: {\n",
              "        action: 'complete',\n",
              "      }\n",
              "    };\n",
              "  }\n",
              "\n",
              "  for (const file of files) {\n",
              "    const li = document.createElement('li');\n",
              "    li.append(span(file.name, {fontWeight: 'bold'}));\n",
              "    li.append(span(\n",
              "        `(${file.type || 'n/a'}) - ${file.size} bytes, ` +\n",
              "        `last modified: ${\n",
              "            file.lastModifiedDate ? file.lastModifiedDate.toLocaleDateString() :\n",
              "                                    'n/a'} - `));\n",
              "    const percent = span('0% done');\n",
              "    li.appendChild(percent);\n",
              "\n",
              "    outputElement.appendChild(li);\n",
              "\n",
              "    const fileDataPromise = new Promise((resolve) => {\n",
              "      const reader = new FileReader();\n",
              "      reader.onload = (e) => {\n",
              "        resolve(e.target.result);\n",
              "      };\n",
              "      reader.readAsArrayBuffer(file);\n",
              "    });\n",
              "    // Wait for the data to be ready.\n",
              "    let fileData = yield {\n",
              "      promise: fileDataPromise,\n",
              "      response: {\n",
              "        action: 'continue',\n",
              "      }\n",
              "    };\n",
              "\n",
              "    // Use a chunked sending to avoid message size limits. See b/62115660.\n",
              "    let position = 0;\n",
              "    do {\n",
              "      const length = Math.min(fileData.byteLength - position, MAX_PAYLOAD_SIZE);\n",
              "      const chunk = new Uint8Array(fileData, position, length);\n",
              "      position += length;\n",
              "\n",
              "      const base64 = btoa(String.fromCharCode.apply(null, chunk));\n",
              "      yield {\n",
              "        response: {\n",
              "          action: 'append',\n",
              "          file: file.name,\n",
              "          data: base64,\n",
              "        },\n",
              "      };\n",
              "\n",
              "      let percentDone = fileData.byteLength === 0 ?\n",
              "          100 :\n",
              "          Math.round((position / fileData.byteLength) * 100);\n",
              "      percent.textContent = `${percentDone}% done`;\n",
              "\n",
              "    } while (position < fileData.byteLength);\n",
              "  }\n",
              "\n",
              "  // All done.\n",
              "  yield {\n",
              "    response: {\n",
              "      action: 'complete',\n",
              "    }\n",
              "  };\n",
              "}\n",
              "\n",
              "scope.google = scope.google || {};\n",
              "scope.google.colab = scope.google.colab || {};\n",
              "scope.google.colab._files = {\n",
              "  _uploadFiles,\n",
              "  _uploadFilesContinue,\n",
              "};\n",
              "})(self);\n",
              "</script> "
            ]
          },
          "metadata": {}
        },
        {
          "output_type": "stream",
          "name": "stdout",
          "text": [
            "Saving 500hits (1).csv to 500hits (1).csv\n"
          ]
        },
        {
          "output_type": "execute_result",
          "data": {
            "text/plain": [
              "         PLAYER  YRS     G     AB     R     H   2B   3B   HR   RBI    BB  \\\n",
              "0       Ty Cobb   24  3035  11434  2246  4189  724  295  117   726  1249   \n",
              "1   Stan Musial   22  3026  10972  1949  3630  725  177  475  1951  1599   \n",
              "2  Tris Speaker   22  2789  10195  1882  3514  792  222  117   724  1381   \n",
              "3   Derek Jeter   20  2747  11195  1923  3465  544   66  260  1311  1082   \n",
              "4  Honus Wagner   21  2792  10430  1736  3430  640  252  101     0   963   \n",
              "\n",
              "     SO   SB   CS     BA  HOF  \n",
              "0   357  892  178  0.366    1  \n",
              "1   696   78   31  0.331    1  \n",
              "2   220  432  129  0.345    1  \n",
              "3  1840  358   97  0.310    1  \n",
              "4   327  722   15  0.329    1  "
            ],
            "text/html": [
              "\n",
              "  <div id=\"df-844c2b07-9963-4e6b-9dea-ddf9678fe470\" class=\"colab-df-container\">\n",
              "    <div>\n",
              "<style scoped>\n",
              "    .dataframe tbody tr th:only-of-type {\n",
              "        vertical-align: middle;\n",
              "    }\n",
              "\n",
              "    .dataframe tbody tr th {\n",
              "        vertical-align: top;\n",
              "    }\n",
              "\n",
              "    .dataframe thead th {\n",
              "        text-align: right;\n",
              "    }\n",
              "</style>\n",
              "<table border=\"1\" class=\"dataframe\">\n",
              "  <thead>\n",
              "    <tr style=\"text-align: right;\">\n",
              "      <th></th>\n",
              "      <th>PLAYER</th>\n",
              "      <th>YRS</th>\n",
              "      <th>G</th>\n",
              "      <th>AB</th>\n",
              "      <th>R</th>\n",
              "      <th>H</th>\n",
              "      <th>2B</th>\n",
              "      <th>3B</th>\n",
              "      <th>HR</th>\n",
              "      <th>RBI</th>\n",
              "      <th>BB</th>\n",
              "      <th>SO</th>\n",
              "      <th>SB</th>\n",
              "      <th>CS</th>\n",
              "      <th>BA</th>\n",
              "      <th>HOF</th>\n",
              "    </tr>\n",
              "  </thead>\n",
              "  <tbody>\n",
              "    <tr>\n",
              "      <th>0</th>\n",
              "      <td>Ty Cobb</td>\n",
              "      <td>24</td>\n",
              "      <td>3035</td>\n",
              "      <td>11434</td>\n",
              "      <td>2246</td>\n",
              "      <td>4189</td>\n",
              "      <td>724</td>\n",
              "      <td>295</td>\n",
              "      <td>117</td>\n",
              "      <td>726</td>\n",
              "      <td>1249</td>\n",
              "      <td>357</td>\n",
              "      <td>892</td>\n",
              "      <td>178</td>\n",
              "      <td>0.366</td>\n",
              "      <td>1</td>\n",
              "    </tr>\n",
              "    <tr>\n",
              "      <th>1</th>\n",
              "      <td>Stan Musial</td>\n",
              "      <td>22</td>\n",
              "      <td>3026</td>\n",
              "      <td>10972</td>\n",
              "      <td>1949</td>\n",
              "      <td>3630</td>\n",
              "      <td>725</td>\n",
              "      <td>177</td>\n",
              "      <td>475</td>\n",
              "      <td>1951</td>\n",
              "      <td>1599</td>\n",
              "      <td>696</td>\n",
              "      <td>78</td>\n",
              "      <td>31</td>\n",
              "      <td>0.331</td>\n",
              "      <td>1</td>\n",
              "    </tr>\n",
              "    <tr>\n",
              "      <th>2</th>\n",
              "      <td>Tris Speaker</td>\n",
              "      <td>22</td>\n",
              "      <td>2789</td>\n",
              "      <td>10195</td>\n",
              "      <td>1882</td>\n",
              "      <td>3514</td>\n",
              "      <td>792</td>\n",
              "      <td>222</td>\n",
              "      <td>117</td>\n",
              "      <td>724</td>\n",
              "      <td>1381</td>\n",
              "      <td>220</td>\n",
              "      <td>432</td>\n",
              "      <td>129</td>\n",
              "      <td>0.345</td>\n",
              "      <td>1</td>\n",
              "    </tr>\n",
              "    <tr>\n",
              "      <th>3</th>\n",
              "      <td>Derek Jeter</td>\n",
              "      <td>20</td>\n",
              "      <td>2747</td>\n",
              "      <td>11195</td>\n",
              "      <td>1923</td>\n",
              "      <td>3465</td>\n",
              "      <td>544</td>\n",
              "      <td>66</td>\n",
              "      <td>260</td>\n",
              "      <td>1311</td>\n",
              "      <td>1082</td>\n",
              "      <td>1840</td>\n",
              "      <td>358</td>\n",
              "      <td>97</td>\n",
              "      <td>0.310</td>\n",
              "      <td>1</td>\n",
              "    </tr>\n",
              "    <tr>\n",
              "      <th>4</th>\n",
              "      <td>Honus Wagner</td>\n",
              "      <td>21</td>\n",
              "      <td>2792</td>\n",
              "      <td>10430</td>\n",
              "      <td>1736</td>\n",
              "      <td>3430</td>\n",
              "      <td>640</td>\n",
              "      <td>252</td>\n",
              "      <td>101</td>\n",
              "      <td>0</td>\n",
              "      <td>963</td>\n",
              "      <td>327</td>\n",
              "      <td>722</td>\n",
              "      <td>15</td>\n",
              "      <td>0.329</td>\n",
              "      <td>1</td>\n",
              "    </tr>\n",
              "  </tbody>\n",
              "</table>\n",
              "</div>\n",
              "    <div class=\"colab-df-buttons\">\n",
              "\n",
              "  <div class=\"colab-df-container\">\n",
              "    <button class=\"colab-df-convert\" onclick=\"convertToInteractive('df-844c2b07-9963-4e6b-9dea-ddf9678fe470')\"\n",
              "            title=\"Convert this dataframe to an interactive table.\"\n",
              "            style=\"display:none;\">\n",
              "\n",
              "  <svg xmlns=\"http://www.w3.org/2000/svg\" height=\"24px\" viewBox=\"0 -960 960 960\">\n",
              "    <path d=\"M120-120v-720h720v720H120Zm60-500h600v-160H180v160Zm220 220h160v-160H400v160Zm0 220h160v-160H400v160ZM180-400h160v-160H180v160Zm440 0h160v-160H620v160ZM180-180h160v-160H180v160Zm440 0h160v-160H620v160Z\"/>\n",
              "  </svg>\n",
              "    </button>\n",
              "\n",
              "  <style>\n",
              "    .colab-df-container {\n",
              "      display:flex;\n",
              "      gap: 12px;\n",
              "    }\n",
              "\n",
              "    .colab-df-convert {\n",
              "      background-color: #E8F0FE;\n",
              "      border: none;\n",
              "      border-radius: 50%;\n",
              "      cursor: pointer;\n",
              "      display: none;\n",
              "      fill: #1967D2;\n",
              "      height: 32px;\n",
              "      padding: 0 0 0 0;\n",
              "      width: 32px;\n",
              "    }\n",
              "\n",
              "    .colab-df-convert:hover {\n",
              "      background-color: #E2EBFA;\n",
              "      box-shadow: 0px 1px 2px rgba(60, 64, 67, 0.3), 0px 1px 3px 1px rgba(60, 64, 67, 0.15);\n",
              "      fill: #174EA6;\n",
              "    }\n",
              "\n",
              "    .colab-df-buttons div {\n",
              "      margin-bottom: 4px;\n",
              "    }\n",
              "\n",
              "    [theme=dark] .colab-df-convert {\n",
              "      background-color: #3B4455;\n",
              "      fill: #D2E3FC;\n",
              "    }\n",
              "\n",
              "    [theme=dark] .colab-df-convert:hover {\n",
              "      background-color: #434B5C;\n",
              "      box-shadow: 0px 1px 3px 1px rgba(0, 0, 0, 0.15);\n",
              "      filter: drop-shadow(0px 1px 2px rgba(0, 0, 0, 0.3));\n",
              "      fill: #FFFFFF;\n",
              "    }\n",
              "  </style>\n",
              "\n",
              "    <script>\n",
              "      const buttonEl =\n",
              "        document.querySelector('#df-844c2b07-9963-4e6b-9dea-ddf9678fe470 button.colab-df-convert');\n",
              "      buttonEl.style.display =\n",
              "        google.colab.kernel.accessAllowed ? 'block' : 'none';\n",
              "\n",
              "      async function convertToInteractive(key) {\n",
              "        const element = document.querySelector('#df-844c2b07-9963-4e6b-9dea-ddf9678fe470');\n",
              "        const dataTable =\n",
              "          await google.colab.kernel.invokeFunction('convertToInteractive',\n",
              "                                                    [key], {});\n",
              "        if (!dataTable) return;\n",
              "\n",
              "        const docLinkHtml = 'Like what you see? Visit the ' +\n",
              "          '<a target=\"_blank\" href=https://colab.research.google.com/notebooks/data_table.ipynb>data table notebook</a>'\n",
              "          + ' to learn more about interactive tables.';\n",
              "        element.innerHTML = '';\n",
              "        dataTable['output_type'] = 'display_data';\n",
              "        await google.colab.output.renderOutput(dataTable, element);\n",
              "        const docLink = document.createElement('div');\n",
              "        docLink.innerHTML = docLinkHtml;\n",
              "        element.appendChild(docLink);\n",
              "      }\n",
              "    </script>\n",
              "  </div>\n",
              "\n",
              "\n",
              "    <div id=\"df-8ed74c63-cd3d-4314-9592-39e9c538dc7a\">\n",
              "      <button class=\"colab-df-quickchart\" onclick=\"quickchart('df-8ed74c63-cd3d-4314-9592-39e9c538dc7a')\"\n",
              "                title=\"Suggest charts\"\n",
              "                style=\"display:none;\">\n",
              "\n",
              "<svg xmlns=\"http://www.w3.org/2000/svg\" height=\"24px\"viewBox=\"0 0 24 24\"\n",
              "     width=\"24px\">\n",
              "    <g>\n",
              "        <path d=\"M19 3H5c-1.1 0-2 .9-2 2v14c0 1.1.9 2 2 2h14c1.1 0 2-.9 2-2V5c0-1.1-.9-2-2-2zM9 17H7v-7h2v7zm4 0h-2V7h2v10zm4 0h-2v-4h2v4z\"/>\n",
              "    </g>\n",
              "</svg>\n",
              "      </button>\n",
              "\n",
              "<style>\n",
              "  .colab-df-quickchart {\n",
              "      --bg-color: #E8F0FE;\n",
              "      --fill-color: #1967D2;\n",
              "      --hover-bg-color: #E2EBFA;\n",
              "      --hover-fill-color: #174EA6;\n",
              "      --disabled-fill-color: #AAA;\n",
              "      --disabled-bg-color: #DDD;\n",
              "  }\n",
              "\n",
              "  [theme=dark] .colab-df-quickchart {\n",
              "      --bg-color: #3B4455;\n",
              "      --fill-color: #D2E3FC;\n",
              "      --hover-bg-color: #434B5C;\n",
              "      --hover-fill-color: #FFFFFF;\n",
              "      --disabled-bg-color: #3B4455;\n",
              "      --disabled-fill-color: #666;\n",
              "  }\n",
              "\n",
              "  .colab-df-quickchart {\n",
              "    background-color: var(--bg-color);\n",
              "    border: none;\n",
              "    border-radius: 50%;\n",
              "    cursor: pointer;\n",
              "    display: none;\n",
              "    fill: var(--fill-color);\n",
              "    height: 32px;\n",
              "    padding: 0;\n",
              "    width: 32px;\n",
              "  }\n",
              "\n",
              "  .colab-df-quickchart:hover {\n",
              "    background-color: var(--hover-bg-color);\n",
              "    box-shadow: 0 1px 2px rgba(60, 64, 67, 0.3), 0 1px 3px 1px rgba(60, 64, 67, 0.15);\n",
              "    fill: var(--button-hover-fill-color);\n",
              "  }\n",
              "\n",
              "  .colab-df-quickchart-complete:disabled,\n",
              "  .colab-df-quickchart-complete:disabled:hover {\n",
              "    background-color: var(--disabled-bg-color);\n",
              "    fill: var(--disabled-fill-color);\n",
              "    box-shadow: none;\n",
              "  }\n",
              "\n",
              "  .colab-df-spinner {\n",
              "    border: 2px solid var(--fill-color);\n",
              "    border-color: transparent;\n",
              "    border-bottom-color: var(--fill-color);\n",
              "    animation:\n",
              "      spin 1s steps(1) infinite;\n",
              "  }\n",
              "\n",
              "  @keyframes spin {\n",
              "    0% {\n",
              "      border-color: transparent;\n",
              "      border-bottom-color: var(--fill-color);\n",
              "      border-left-color: var(--fill-color);\n",
              "    }\n",
              "    20% {\n",
              "      border-color: transparent;\n",
              "      border-left-color: var(--fill-color);\n",
              "      border-top-color: var(--fill-color);\n",
              "    }\n",
              "    30% {\n",
              "      border-color: transparent;\n",
              "      border-left-color: var(--fill-color);\n",
              "      border-top-color: var(--fill-color);\n",
              "      border-right-color: var(--fill-color);\n",
              "    }\n",
              "    40% {\n",
              "      border-color: transparent;\n",
              "      border-right-color: var(--fill-color);\n",
              "      border-top-color: var(--fill-color);\n",
              "    }\n",
              "    60% {\n",
              "      border-color: transparent;\n",
              "      border-right-color: var(--fill-color);\n",
              "    }\n",
              "    80% {\n",
              "      border-color: transparent;\n",
              "      border-right-color: var(--fill-color);\n",
              "      border-bottom-color: var(--fill-color);\n",
              "    }\n",
              "    90% {\n",
              "      border-color: transparent;\n",
              "      border-bottom-color: var(--fill-color);\n",
              "    }\n",
              "  }\n",
              "</style>\n",
              "\n",
              "      <script>\n",
              "        async function quickchart(key) {\n",
              "          const quickchartButtonEl =\n",
              "            document.querySelector('#' + key + ' button');\n",
              "          quickchartButtonEl.disabled = true;  // To prevent multiple clicks.\n",
              "          quickchartButtonEl.classList.add('colab-df-spinner');\n",
              "          try {\n",
              "            const charts = await google.colab.kernel.invokeFunction(\n",
              "                'suggestCharts', [key], {});\n",
              "          } catch (error) {\n",
              "            console.error('Error during call to suggestCharts:', error);\n",
              "          }\n",
              "          quickchartButtonEl.classList.remove('colab-df-spinner');\n",
              "          quickchartButtonEl.classList.add('colab-df-quickchart-complete');\n",
              "        }\n",
              "        (() => {\n",
              "          let quickchartButtonEl =\n",
              "            document.querySelector('#df-8ed74c63-cd3d-4314-9592-39e9c538dc7a button');\n",
              "          quickchartButtonEl.style.display =\n",
              "            google.colab.kernel.accessAllowed ? 'block' : 'none';\n",
              "        })();\n",
              "      </script>\n",
              "    </div>\n",
              "\n",
              "    </div>\n",
              "  </div>\n"
            ],
            "application/vnd.google.colaboratory.intrinsic+json": {
              "type": "dataframe",
              "variable_name": "baseball_df",
              "summary": "{\n  \"name\": \"baseball_df\",\n  \"rows\": 465,\n  \"fields\": [\n    {\n      \"column\": \"PLAYER\",\n      \"properties\": {\n        \"dtype\": \"string\",\n        \"num_unique_values\": 463,\n        \"samples\": [\n          \"Ed Konetchy\",\n          \"Al Simmons\",\n          \"George Sisler\"\n        ],\n        \"semantic_type\": \"\",\n        \"description\": \"\"\n      }\n    },\n    {\n      \"column\": \"YRS\",\n      \"properties\": {\n        \"dtype\": \"number\",\n        \"std\": 2,\n        \"min\": 11,\n        \"max\": 26,\n        \"num_unique_values\": 16,\n        \"samples\": [\n          24,\n          22,\n          25\n        ],\n        \"semantic_type\": \"\",\n        \"description\": \"\"\n      }\n    },\n    {\n      \"column\": \"G\",\n      \"properties\": {\n        \"dtype\": \"number\",\n        \"std\": 354,\n        \"min\": 1331,\n        \"max\": 3308,\n        \"num_unique_values\": 382,\n        \"samples\": [\n          2017,\n          1951,\n          2082\n        ],\n        \"semantic_type\": \"\",\n        \"description\": \"\"\n      }\n    },\n    {\n      \"column\": \"AB\",\n      \"properties\": {\n        \"dtype\": \"number\",\n        \"std\": 1294,\n        \"min\": 4981,\n        \"max\": 12364,\n        \"num_unique_values\": 442,\n        \"samples\": [\n          6878,\n          7370,\n          9396\n        ],\n        \"semantic_type\": \"\",\n        \"description\": \"\"\n      }\n    },\n    {\n      \"column\": \"R\",\n      \"properties\": {\n        \"dtype\": \"number\",\n        \"std\": 289,\n        \"min\": 601,\n        \"max\": 2295,\n        \"num_unique_values\": 362,\n        \"samples\": [\n          1320,\n          1299,\n          1844\n        ],\n        \"semantic_type\": \"\",\n        \"description\": \"\"\n      }\n    },\n    {\n      \"column\": \"H\",\n      \"properties\": {\n        \"dtype\": \"number\",\n        \"std\": 424,\n        \"min\": 1660,\n        \"max\": 4189,\n        \"num_unique_values\": 383,\n        \"samples\": [\n          1951,\n          2008,\n          1803\n        ],\n        \"semantic_type\": \"\",\n        \"description\": \"\"\n      }\n    },\n    {\n      \"column\": \"2B\",\n      \"properties\": {\n        \"dtype\": \"number\",\n        \"std\": 96,\n        \"min\": 177,\n        \"max\": 792,\n        \"num_unique_values\": 258,\n        \"samples\": [\n          373,\n          361,\n          560\n        ],\n        \"semantic_type\": \"\",\n        \"description\": \"\"\n      }\n    },\n    {\n      \"column\": \"3B\",\n      \"properties\": {\n        \"dtype\": \"number\",\n        \"std\": 49,\n        \"min\": 3,\n        \"max\": 309,\n        \"num_unique_values\": 168,\n        \"samples\": [\n          106,\n          172,\n          165\n        ],\n        \"semantic_type\": \"\",\n        \"description\": \"\"\n      }\n    },\n    {\n      \"column\": \"HR\",\n      \"properties\": {\n        \"dtype\": \"number\",\n        \"std\": 143,\n        \"min\": 9,\n        \"max\": 755,\n        \"num_unique_values\": 296,\n        \"samples\": [\n          374,\n          140,\n          309\n        ],\n        \"semantic_type\": \"\",\n        \"description\": \"\"\n      }\n    },\n    {\n      \"column\": \"RBI\",\n      \"properties\": {\n        \"dtype\": \"number\",\n        \"std\": 486,\n        \"min\": 0,\n        \"max\": 2297,\n        \"num_unique_values\": 353,\n        \"samples\": [\n          640,\n          1475,\n          874\n        ],\n        \"semantic_type\": \"\",\n        \"description\": \"\"\n      }\n    },\n    {\n      \"column\": \"BB\",\n      \"properties\": {\n        \"dtype\": \"number\",\n        \"std\": 327,\n        \"min\": 239,\n        \"max\": 2190,\n        \"num_unique_values\": 371,\n        \"samples\": [\n          782,\n          1708,\n          1216\n        ],\n        \"semantic_type\": \"\",\n        \"description\": \"\"\n      }\n    },\n    {\n      \"column\": \"SO\",\n      \"properties\": {\n        \"dtype\": \"number\",\n        \"std\": 489,\n        \"min\": 0,\n        \"max\": 2597,\n        \"num_unique_values\": 405,\n        \"samples\": [\n          412,\n          512,\n          438\n        ],\n        \"semantic_type\": \"\",\n        \"description\": \"\"\n      }\n    },\n    {\n      \"column\": \"SB\",\n      \"properties\": {\n        \"dtype\": \"number\",\n        \"std\": 181,\n        \"min\": 7,\n        \"max\": 1406,\n        \"num_unique_values\": 287,\n        \"samples\": [\n          110,\n          77,\n          55\n        ],\n        \"semantic_type\": \"\",\n        \"description\": \"\"\n      }\n    },\n    {\n      \"column\": \"CS\",\n      \"properties\": {\n        \"dtype\": \"number\",\n        \"std\": 48,\n        \"min\": 0,\n        \"max\": 335,\n        \"num_unique_values\": 148,\n        \"samples\": [\n          104,\n          9,\n          169\n        ],\n        \"semantic_type\": \"\",\n        \"description\": \"\"\n      }\n    },\n    {\n      \"column\": \"BA\",\n      \"properties\": {\n        \"dtype\": \"number\",\n        \"std\": 0.021207583678664998,\n        \"min\": 0.246,\n        \"max\": 0.366,\n        \"num_unique_values\": 90,\n        \"samples\": [\n          0.295,\n          0.341,\n          0.276\n        ],\n        \"semantic_type\": \"\",\n        \"description\": \"\"\n      }\n    },\n    {\n      \"column\": \"HOF\",\n      \"properties\": {\n        \"dtype\": \"number\",\n        \"std\": 0,\n        \"min\": 0,\n        \"max\": 2,\n        \"num_unique_values\": 3,\n        \"samples\": [\n          1,\n          0,\n          2\n        ],\n        \"semantic_type\": \"\",\n        \"description\": \"\"\n      }\n    }\n  ]\n}"
            }
          },
          "metadata": {},
          "execution_count": 1
        }
      ],
      "source": [
        "#Import data\n",
        "import pandas as pd\n",
        "\n",
        "from google.colab import files\n",
        "\n",
        "uploaded = files.upload()\n",
        "\n",
        "baseball_df = pd.read_csv('/content/500hits (1).csv', encoding = \"latin-1\")\n",
        "\n",
        "\n",
        "\n",
        "baseball_df.head()"
      ]
    },
    {
      "cell_type": "code",
      "source": [
        "# Import libraries\n",
        "\n",
        "!pip install matplotlib\n",
        "import matplotlib.pyplot as plt"
      ],
      "metadata": {
        "id": "E5tO_LvSk4-b",
        "colab": {
          "base_uri": "https://localhost:8080/"
        },
        "outputId": "f7b1c8bc-2910-4e78-81e9-393398eb97a1"
      },
      "execution_count": 2,
      "outputs": [
        {
          "output_type": "stream",
          "name": "stdout",
          "text": [
            "Requirement already satisfied: matplotlib in /usr/local/lib/python3.11/dist-packages (3.10.0)\n",
            "Requirement already satisfied: contourpy>=1.0.1 in /usr/local/lib/python3.11/dist-packages (from matplotlib) (1.3.2)\n",
            "Requirement already satisfied: cycler>=0.10 in /usr/local/lib/python3.11/dist-packages (from matplotlib) (0.12.1)\n",
            "Requirement already satisfied: fonttools>=4.22.0 in /usr/local/lib/python3.11/dist-packages (from matplotlib) (4.59.0)\n",
            "Requirement already satisfied: kiwisolver>=1.3.1 in /usr/local/lib/python3.11/dist-packages (from matplotlib) (1.4.8)\n",
            "Requirement already satisfied: numpy>=1.23 in /usr/local/lib/python3.11/dist-packages (from matplotlib) (2.0.2)\n",
            "Requirement already satisfied: packaging>=20.0 in /usr/local/lib/python3.11/dist-packages (from matplotlib) (25.0)\n",
            "Requirement already satisfied: pillow>=8 in /usr/local/lib/python3.11/dist-packages (from matplotlib) (11.3.0)\n",
            "Requirement already satisfied: pyparsing>=2.3.1 in /usr/local/lib/python3.11/dist-packages (from matplotlib) (3.2.3)\n",
            "Requirement already satisfied: python-dateutil>=2.7 in /usr/local/lib/python3.11/dist-packages (from matplotlib) (2.9.0.post0)\n",
            "Requirement already satisfied: six>=1.5 in /usr/local/lib/python3.11/dist-packages (from python-dateutil>=2.7->matplotlib) (1.17.0)\n"
          ]
        }
      ]
    },
    {
      "cell_type": "code",
      "source": [
        "#Explore data set\n",
        "baseball_df.info()"
      ],
      "metadata": {
        "colab": {
          "base_uri": "https://localhost:8080/"
        },
        "id": "o7lOW5BQAwWw",
        "outputId": "abb98a01-1769-4d1c-9ca4-1da32d6b40ec"
      },
      "execution_count": null,
      "outputs": [
        {
          "output_type": "stream",
          "name": "stdout",
          "text": [
            "<class 'pandas.core.frame.DataFrame'>\n",
            "RangeIndex: 465 entries, 0 to 464\n",
            "Data columns (total 16 columns):\n",
            " #   Column  Non-Null Count  Dtype  \n",
            "---  ------  --------------  -----  \n",
            " 0   PLAYER  465 non-null    object \n",
            " 1   YRS     465 non-null    int64  \n",
            " 2   G       465 non-null    int64  \n",
            " 3   AB      465 non-null    int64  \n",
            " 4   R       465 non-null    int64  \n",
            " 5   H       465 non-null    int64  \n",
            " 6   2B      465 non-null    int64  \n",
            " 7   3B      465 non-null    int64  \n",
            " 8   HR      465 non-null    int64  \n",
            " 9   RBI     465 non-null    int64  \n",
            " 10  BB      465 non-null    int64  \n",
            " 11  SO      465 non-null    int64  \n",
            " 12  SB      465 non-null    int64  \n",
            " 13  CS      465 non-null    int64  \n",
            " 14  BA      465 non-null    float64\n",
            " 15  HOF     465 non-null    int64  \n",
            "dtypes: float64(1), int64(14), object(1)\n",
            "memory usage: 58.3+ KB\n"
          ]
        }
      ]
    },
    {
      "cell_type": "code",
      "source": [
        "# Graph for Years vs Games played\n",
        "\n",
        "plt.scatter(baseball_df['YRS'], baseball_df['G'])\n",
        "plt.title(\"Years vs Games Played\")\n",
        "plt.xlabel(\"Years\")\n",
        "plt.ylabel(\"Games\")\n",
        "plt.show()\n"
      ],
      "metadata": {
        "colab": {
          "base_uri": "https://localhost:8080/",
          "height": 472
        },
        "id": "3jWv01M-hpJH",
        "outputId": "340ca6c6-b6f8-42bb-8594-46e08560c523"
      },
      "execution_count": null,
      "outputs": [
        {
          "output_type": "display_data",
          "data": {
            "text/plain": [
              "<Figure size 640x480 with 1 Axes>"
            ],
            "image/png": "[encoded data removed]"
          },
          "metadata": {}
        }
      ]
    },
    {
      "cell_type": "code",
      "source": [
        "# Graph for At Bat vs Hits\n",
        "\n",
        "plt.scatter(baseball_df['AB'], baseball_df['H'])\n",
        "plt.title(\"At Bat vs Hits\")\n",
        "plt.xlabel(\"At Bat\")\n",
        "plt.ylabel(\"Hits\")\n",
        "plt.show()\n"
      ],
      "metadata": {
        "colab": {
          "base_uri": "https://localhost:8080/",
          "height": 472
        },
        "id": "WfkjgDknlljx",
        "outputId": "7fbc0b3b-ee8d-4ae1-d756-67cf215de846"
      },
      "execution_count": null,
      "outputs": [
        {
          "output_type": "display_data",
          "data": {
            "text/plain": [
              "<Figure size 640x480 with 1 Axes>"
            ],
            "image/png": "[encoded data removed]"
          },
          "metadata": {}
        }
      ]
    },
    {
      "cell_type": "code",
      "source": [
        "# Graph for Home Runs vs Runs at Bat\n",
        "\n",
        "plt.scatter(baseball_df['HR'], baseball_df['RBI'])\n",
        "plt.title(\"Home Runs vs Runs at Bat\")\n",
        "plt.xlabel(\"Home Runs\")\n",
        "plt.ylabel(\"Runs at Bat\")\n",
        "plt.show()\n"
      ],
      "metadata": {
        "colab": {
          "base_uri": "https://localhost:8080/",
          "height": 452
        },
        "id": "QCMfUu19mZ2d",
        "outputId": "bfccf954-076f-4337-be1d-fd93810b89ff"
      },
      "execution_count": null,
      "outputs": [
        {
          "output_type": "display_data",
          "data": {
            "text/plain": [
              "<Figure size 640x480 with 1 Axes>"
            ],
            "image/png": "[encoded data removed]"
          },
          "metadata": {}
        }
      ]
    },
    {
      "cell_type": "markdown",
      "source": [
        "# DAY 2\n",
        "\n",
        "\n"
      ],
      "metadata": {
        "id": "nks-NAD3HH0t"
      }
    },
    {
      "cell_type": "code",
      "source": [
        "#Rename columns\n",
        "baseball_df = baseball_df.rename(columns={\"YRS\": \"Years\"})\n",
        "baseball_df = baseball_df.rename(columns={\"G\": \"Games\"})\n",
        "baseball_df = baseball_df.rename(columns={\"AB\": \"At Bat\"})\n",
        "baseball_df = baseball_df.rename(columns={\"R\": \"Runs\"})\n",
        "baseball_df = baseball_df.rename(columns={\"H\": \"Hits\"})\n",
        "baseball_df = baseball_df.rename(columns={\"2B\": \"Double Hits\"})\n",
        "baseball_df = baseball_df.rename(columns={\"3B\": \"Triple Hits\"})\n",
        "baseball_df = baseball_df.rename(columns={\"HR\": \"Home Runs\"})\n",
        "baseball_df = baseball_df.rename(columns={\"RBI\": \"Runs Batted In\"})\n",
        "baseball_df = baseball_df.rename(columns={\"HOF\": \"Hall of Fame\"})\n",
        "baseball_df = baseball_df.rename(columns={\"BA\": \"Batting Average\"})\n",
        "baseball_df = baseball_df.rename(columns={\"SO\": \"Strike Out\"})\n"
      ],
      "metadata": {
        "id": "S7i6trK4Oait"
      },
      "execution_count": 2,
      "outputs": []
    },
    {
      "cell_type": "code",
      "source": [
        "# Find null values\n",
        "\n",
        "#Find columns with missing values\n",
        "#print(baseball_df['Years'].unique())\n",
        "#print(baseball_df['Games'].unique())\n",
        "#print(baseball_df['At Bat'].unique())\n",
        "#print(baseball_df['Runs'].unique())\n",
        "#print(baseball_df['Hits'].unique())\n",
        "#print(baseball_df['Double Hits'].unique())\n",
        "#print(baseball_df['Triple Hits'].unique())\n",
        "#print(baseball_df['Home Runs'].unique())\n",
        "#print(baseball_df['Runs Batted In'].unique())\n",
        "print(baseball_df['Hall of Fame'].unique())"
      ],
      "metadata": {
        "colab": {
          "base_uri": "https://localhost:8080/"
        },
        "id": "cwTsY-zhT-Zi",
        "outputId": "f9b12636-c970-4b84-f568-72a87a361635"
      },
      "execution_count": null,
      "outputs": [
        {
          "output_type": "stream",
          "name": "stdout",
          "text": [
            "[1 0 2]\n"
          ]
        }
      ]
    },
    {
      "cell_type": "code",
      "source": [
        "\n",
        "#Find row with null values\n",
        "baseball_df.iloc[baseball_df[baseball_df['PLAYER'] == 'Lave Cross'].index[0]]\n",
        "baseball_df.iloc[baseball_df[baseball_df['Hall of Fame'] == 2].index[0]]\n"
      ],
      "metadata": {
        "colab": {
          "base_uri": "https://localhost:8080/",
          "height": 586
        },
        "id": "wiDTNeI-WC7I",
        "outputId": "853031a7-67ea-43ea-f0d3-c57e4506f9f9"
      },
      "execution_count": null,
      "outputs": [
        {
          "output_type": "execute_result",
          "data": {
            "text/plain": [
              "PLAYER            Tim Raines Sr.\n",
              "Years                         23\n",
              "Games                       2502\n",
              "At Bat                      8872\n",
              "Runs                        1571\n",
              "Hits                        2605\n",
              "Double Hits                  430\n",
              "Triple Hits                    1\n",
              "Home Runs                    170\n",
              "Runs Batted In               980\n",
              "BB                          1330\n",
              "SO                           966\n",
              "SB                           808\n",
              "CS                           146\n",
              "BA                         0.294\n",
              "Hall of Fame                   2\n",
              "Name: 160, dtype: object"
            ],
            "text/html": [
              "<div>\n",
              "<style scoped>\n",
              "    .dataframe tbody tr th:only-of-type {\n",
              "        vertical-align: middle;\n",
              "    }\n",
              "\n",
              "    .dataframe tbody tr th {\n",
              "        vertical-align: top;\n",
              "    }\n",
              "\n",
              "    .dataframe thead th {\n",
              "        text-align: right;\n",
              "    }\n",
              "</style>\n",
              "<table border=\"1\" class=\"dataframe\">\n",
              "  <thead>\n",
              "    <tr style=\"text-align: right;\">\n",
              "      <th></th>\n",
              "      <th>160</th>\n",
              "    </tr>\n",
              "  </thead>\n",
              "  <tbody>\n",
              "    <tr>\n",
              "      <th>PLAYER</th>\n",
              "      <td>Tim Raines Sr.</td>\n",
              "    </tr>\n",
              "    <tr>\n",
              "      <th>Years</th>\n",
              "      <td>23</td>\n",
              "    </tr>\n",
              "    <tr>\n",
              "      <th>Games</th>\n",
              "      <td>2502</td>\n",
              "    </tr>\n",
              "    <tr>\n",
              "      <th>At Bat</th>\n",
              "      <td>8872</td>\n",
              "    </tr>\n",
              "    <tr>\n",
              "      <th>Runs</th>\n",
              "      <td>1571</td>\n",
              "    </tr>\n",
              "    <tr>\n",
              "      <th>Hits</th>\n",
              "      <td>2605</td>\n",
              "    </tr>\n",
              "    <tr>\n",
              "      <th>Double Hits</th>\n",
              "      <td>430</td>\n",
              "    </tr>\n",
              "    <tr>\n",
              "      <th>Triple Hits</th>\n",
              "      <td>1</td>\n",
              "    </tr>\n",
              "    <tr>\n",
              "      <th>Home Runs</th>\n",
              "      <td>170</td>\n",
              "    </tr>\n",
              "    <tr>\n",
              "      <th>Runs Batted In</th>\n",
              "      <td>980</td>\n",
              "    </tr>\n",
              "    <tr>\n",
              "      <th>BB</th>\n",
              "      <td>1330</td>\n",
              "    </tr>\n",
              "    <tr>\n",
              "      <th>SO</th>\n",
              "      <td>966</td>\n",
              "    </tr>\n",
              "    <tr>\n",
              "      <th>SB</th>\n",
              "      <td>808</td>\n",
              "    </tr>\n",
              "    <tr>\n",
              "      <th>CS</th>\n",
              "      <td>146</td>\n",
              "    </tr>\n",
              "    <tr>\n",
              "      <th>BA</th>\n",
              "      <td>0.294</td>\n",
              "    </tr>\n",
              "    <tr>\n",
              "      <th>Hall of Fame</th>\n",
              "      <td>2</td>\n",
              "    </tr>\n",
              "  </tbody>\n",
              "</table>\n",
              "</div><br><label><b>dtype:</b> object</label>"
            ]
          },
          "metadata": {},
          "execution_count": 39
        }
      ]
    },
    {
      "cell_type": "code",
      "source": [
        "#Replace null values with correct values\n",
        "baseball_df.iloc[159, 6] = 1371\n",
        "baseball_df.iloc[160, 7] = 1"
      ],
      "metadata": {
        "id": "8kOXih7eaCSQ"
      },
      "execution_count": null,
      "outputs": []
    },
    {
      "cell_type": "markdown",
      "source": [
        "END OF DATA CLEAN"
      ],
      "metadata": {
        "id": "kLgBQcNEdbyZ"
      }
    },
    {
      "cell_type": "markdown",
      "source": [
        "RESEARCH QUESTION:\n",
        "\n",
        "Can we identify distinct player groups among the players based on their stats, and how do these groups correlate with Hall of Fame?\n",
        "\n",
        "(Power Hitter, Contact hitter, 5 Tool)\n",
        "\n",
        "Compare players' stats against eachothers, set percent standards that dictates each group(what person of hits in homeruns), state that in presentation and keep in consistent.\n",
        "\n",
        "\n",
        "\n"
      ],
      "metadata": {
        "id": "iIl-WabYf-Fm"
      }
    },
    {
      "cell_type": "markdown",
      "source": [
        "DAY 3\n"
      ],
      "metadata": {
        "id": "oe5xpod4WdDx"
      }
    },
    {
      "cell_type": "code",
      "source": [
        "# Revised data clean\n",
        "\n",
        "#Find all rows with 0 in Runs Batted In\n",
        "print(baseball_df[baseball_df['Runs Batted In'] == 0].index.tolist())"
      ],
      "metadata": {
        "colab": {
          "base_uri": "https://localhost:8080/"
        },
        "id": "vB6g6GEaW1mY",
        "outputId": "10238c7f-534b-4abd-bda8-e7dbd64c0c6e"
      },
      "execution_count": 3,
      "outputs": [
        {
          "output_type": "stream",
          "name": "stdout",
          "text": [
            "[4, 10, 23, 25, 27, 28, 36, 50, 53, 58, 70, 91, 92, 95, 97, 99, 104, 110, 114, 129, 130, 138, 143, 145, 159, 166, 170, 174, 200, 201, 206, 220, 222, 230, 239, 257, 258, 268, 270, 304, 307, 317, 322, 339, 340, 352, 353, 359, 360, 372, 375, 379, 397, 398, 404, 407, 410, 419, 422, 424, 448, 457]\n"
          ]
        }
      ]
    },
    {
      "cell_type": "code",
      "source": [
        "#Remove rows with missing data\n",
        "baseball_df=baseball_df[baseball_df['Runs Batted In'] != 0]"
      ],
      "metadata": {
        "id": "nPe7KJwXazJP"
      },
      "execution_count": 4,
      "outputs": []
    },
    {
      "cell_type": "code",
      "source": [
        "#Verify cleanse\n",
        "print(baseball_df[baseball_df['Runs Batted In'] == 0].index.tolist())"
      ],
      "metadata": {
        "colab": {
          "base_uri": "https://localhost:8080/"
        },
        "id": "L15MBYUecLHu",
        "outputId": "6109777e-db94-452f-9bc7-4132c01a5e86"
      },
      "execution_count": 5,
      "outputs": [
        {
          "output_type": "stream",
          "name": "stdout",
          "text": [
            "[]\n"
          ]
        }
      ]
    },
    {
      "cell_type": "code",
      "source": [
        "# Find rows with invalid HOF\n",
        "print(baseball_df[baseball_df['Hall of Fame'] == 2].index.tolist())"
      ],
      "metadata": {
        "colab": {
          "base_uri": "https://localhost:8080/"
        },
        "id": "S3NU6atGr8im",
        "outputId": "028919d6-a5e9-4b36-b00e-ac71b57065a6"
      },
      "execution_count": 6,
      "outputs": [
        {
          "output_type": "stream",
          "name": "stdout",
          "text": [
            "[160]\n"
          ]
        }
      ]
    },
    {
      "cell_type": "code",
      "source": [
        "#Fix invalid entry\n",
        "baseball_df.iloc[160, 7] = 1"
      ],
      "metadata": {
        "id": "rWbySARnsDhm"
      },
      "execution_count": 7,
      "outputs": []
    },
    {
      "cell_type": "markdown",
      "source": [
        "Simple Visuals to Expand On"
      ],
      "metadata": {
        "id": "IvooS1cicTLD"
      }
    },
    {
      "cell_type": "markdown",
      "source": [
        "DAY 4\n"
      ],
      "metadata": {
        "id": "CFWVJXrhbrcY"
      }
    },
    {
      "cell_type": "markdown",
      "source": [
        "Contact hitter: HR%<3%\n",
        "Power Hitter : HR%>5%"
      ],
      "metadata": {
        "id": "MW6aLbpodSEm"
      }
    },
    {
      "cell_type": "code",
      "source": [
        "#Graph\n",
        "\n",
        "\n",
        "import pandas as pd\n",
        "import numpy as np\n",
        "import matplotlib.pyplot as plt\n",
        "\n",
        "# Compare stats to HOF and non-HOF\n",
        "\n",
        "compare_stats = ['Years', 'Games', 'At Bat', 'Runs', 'Hits', 'Double Hits', 'Triple Hits', 'Home Runs', 'Runs Batted In']\n",
        "\n",
        "\n",
        "#HOF and nonHOF mean stats\n",
        "hof_years = baseball_df[baseball_df['Hall of Fame'] == 1]['Years'].mean()\n",
        "nonhof_years = baseball_df[baseball_df['Hall of Fame'] == 0]['Years'].mean()\n",
        "\n",
        "hof_games = baseball_df[baseball_df['Hall of Fame'] == 1]['Games'].mean()\n",
        "nonhof_games = baseball_df[baseball_df['Hall of Fame'] == 0]['Games'].mean()\n",
        "\n",
        "hof_atbat = baseball_df[baseball_df['Hall of Fame'] == 1]['At Bat'].mean()\n",
        "nonhof_atbat = baseball_df[baseball_df['Hall of Fame'] == 0]['At Bat'].mean()\n",
        "\n",
        "hof_runs = baseball_df[baseball_df['Hall of Fame'] == 1]['Runs'].mean()\n",
        "nonhof_runs = baseball_df[baseball_df['Hall of Fame'] == 0]['Runs'].mean()\n",
        "\n",
        "hof_hits = baseball_df[baseball_df['Hall of Fame'] == 1]['Hits'].mean()\n",
        "nonhof_hits = baseball_df[baseball_df['Hall of Fame'] == 0]['Hits'].mean()\n",
        "\n",
        "hof_doublehits = baseball_df[baseball_df['Hall of Fame'] == 1]['Double Hits'].mean()\n",
        "nonhof_doublehits = baseball_df[baseball_df['Hall of Fame'] == 0]['Double Hits'].mean()\n",
        "\n",
        "hof_triplehits = baseball_df[baseball_df['Hall of Fame'] == 1]['Triple Hits'].mean()\n",
        "nonhof_triplehits = baseball_df[baseball_df['Hall of Fame'] == 0]['Triple Hits'].mean()\n",
        "\n",
        "hof_homeruns = baseball_df[baseball_df['Hall of Fame'] == 1]['Home Runs'].mean()\n",
        "nonhof_homeruns = baseball_df[baseball_df['Hall of Fame'] == 0]['Home Runs'].mean()\n",
        "\n",
        "hof_runsbattedin = baseball_df[baseball_df['Hall of Fame'] == 1]['Runs Batted In'].mean()\n",
        "nonhof_runsbattedin = baseball_df[baseball_df['Hall of Fame'] == 0]['Runs Batted In'].mean()\n",
        "\n",
        "#Check means\n",
        "print(hof_years)\n",
        "print(nonhof_years)\n",
        "\n",
        "print(hof_games)\n",
        "print(nonhof_games)\n",
        "\n",
        "print(hof_atbat)\n",
        "print(nonhof_atbat)\n",
        "\n",
        "print(hof_runs)\n",
        "print(nonhof_runs)\n",
        "\n",
        "print(hof_hits)\n",
        "print(nonhof_hits)\n",
        "\n",
        "print(hof_doublehits)\n",
        "print(nonhof_doublehits)\n",
        "\n",
        "print(hof_triplehits)\n",
        "print(nonhof_triplehits)\n",
        "\n",
        "print(hof_homeruns)\n",
        "print(nonhof_homeruns)\n",
        "\n",
        "print(hof_runsbattedin)\n",
        "print(nonhof_runsbattedin)\n"
      ],
      "metadata": {
        "colab": {
          "base_uri": "https://localhost:8080/"
        },
        "id": "NcdcG3twbtBN",
        "outputId": "675b01c5-f527-4658-b080-04dcdea7a7b1"
      },
      "execution_count": null,
      "outputs": [
        {
          "output_type": "stream",
          "name": "stdout",
          "text": [
            "18.53543307086614\n",
            "16.345454545454544\n",
            "2298.763779527559\n",
            "1973.709090909091\n",
            "8435.377952755905\n",
            "7133.149090909091\n",
            "1360.5433070866143\n",
            "1019.709090909091\n",
            "2529.220472440945\n",
            "2004.1963636363637\n",
            "448.18110236220474\n",
            "361.4836363636364\n",
            "92.70866141732283\n",
            "58.75272727272727\n",
            "276.1496062992126\n",
            "197.73454545454547\n",
            "1241.4094488188975\n",
            "935.2436363636364\n"
          ]
        }
      ]
    },
    {
      "cell_type": "code",
      "source": [
        "#Graph for Mean years\n",
        "\n",
        "years_stat = ['Years']\n",
        "x_points = np.arange(len(years_stat))\n",
        "\n",
        "\n",
        "plt.bar(x_points - 0.2, hof_years, width = 0.4, label = 'HOF')\n",
        "plt.bar(x_points + 0.2, nonhof_years, width = 0.4, label = 'Non HOF')\n",
        "\n",
        "plt.xticks(x_points, years_stat)\n",
        "plt.legend()\n",
        "\n",
        "plt.ylabel('Values')\n",
        "plt.title('Mean stats in HOF vs non HOF')\n",
        "\n",
        "plt.show()"
      ],
      "metadata": {
        "colab": {
          "base_uri": "https://localhost:8080/",
          "height": 452
        },
        "id": "a6LoJldLnQP1",
        "outputId": "7a4c0cb6-b77c-4268-e72d-9b836abf0296"
      },
      "execution_count": null,
      "outputs": [
        {
          "output_type": "display_data",
          "data": {
            "text/plain": [
              "<Figure size 640x480 with 1 Axes>"
            ],
            "image/png": "[encoded data removed]"
          },
          "metadata": {}
        }
      ]
    },
    {
      "cell_type": "code",
      "source": [
        "#Graph for mean games\n",
        "\n",
        "games_stat = ['Games']\n",
        "x_points = np.arange(len(games_stat))\n",
        "\n",
        "\n",
        "plt.bar(x_points - 0.2, hof_games, width = 0.4, label = 'HOF')\n",
        "plt.bar(x_points + 0.2, nonhof_games, width = 0.4, label = 'Non HOF')\n",
        "\n",
        "plt.xticks(x_points, games_stat)\n",
        "plt.legend()\n",
        "\n",
        "plt.ylabel('Values')\n",
        "plt.title('Mean stats in HOF vs non HOF')\n",
        "\n",
        "plt.show()"
      ],
      "metadata": {
        "colab": {
          "base_uri": "https://localhost:8080/",
          "height": 452
        },
        "id": "PLVXJXOCnhjd",
        "outputId": "48d90f91-9dea-4380-c05c-2d99a383afb5"
      },
      "execution_count": null,
      "outputs": [
        {
          "output_type": "display_data",
          "data": {
            "text/plain": [
              "<Figure size 640x480 with 1 Axes>"
            ],
            "image/png": "[encoded data removed]"
          },
          "metadata": {}
        }
      ]
    },
    {
      "cell_type": "code",
      "source": [
        "#Graph for mean at bat\n",
        "\n",
        "atbat_stat = ['At Bat']\n",
        "x_points = np.arange(len(atbat_stat))\n",
        "\n",
        "\n",
        "plt.bar(x_points - 0.2, hof_atbat, width = 0.4, label = 'HOF')\n",
        "plt.bar(x_points + 0.2, nonhof_atbat, width = 0.4, label = 'Non HOF')\n",
        "\n",
        "plt.xticks(x_points, atbat_stat)\n",
        "plt.legend()\n",
        "\n",
        "plt.ylabel('Values')\n",
        "plt.title('Mean stats in HOF vs non HOF')\n",
        "\n",
        "plt.show()"
      ],
      "metadata": {
        "colab": {
          "base_uri": "https://localhost:8080/",
          "height": 452
        },
        "id": "JiS853PunxzX",
        "outputId": "c4162a03-a05b-4853-b7b8-079065dc12c5"
      },
      "execution_count": null,
      "outputs": [
        {
          "output_type": "display_data",
          "data": {
            "text/plain": [
              "<Figure size 640x480 with 1 Axes>"
            ],
            "image/png": "[encoded data removed]"
          },
          "metadata": {}
        }
      ]
    },
    {
      "cell_type": "code",
      "source": [
        "#Graph for mean runs\n",
        "\n",
        "runs_stat = ['Runs']\n",
        "x_points = np.arange(len(runs_stat))\n",
        "\n",
        "\n",
        "plt.bar(x_points - 0.2, hof_runs, width = 0.4, label = 'HOF')\n",
        "plt.bar(x_points + 0.2, nonhof_runs, width = 0.4, label = 'Non HOF')\n",
        "\n",
        "plt.xticks(x_points, runs_stat)\n",
        "plt.legend()\n",
        "\n",
        "plt.ylabel('Values')\n",
        "plt.title('Mean stats in HOF vs non HOF')\n",
        "\n",
        "plt.show()"
      ],
      "metadata": {
        "colab": {
          "base_uri": "https://localhost:8080/",
          "height": 452
        },
        "id": "uTejta3Cn2ac",
        "outputId": "13679c97-5917-4148-82da-53648bbfc05f"
      },
      "execution_count": null,
      "outputs": [
        {
          "output_type": "display_data",
          "data": {
            "text/plain": [
              "<Figure size 640x480 with 1 Axes>"
            ],
            "image/png": "[encoded data removed]"
          },
          "metadata": {}
        }
      ]
    },
    {
      "cell_type": "code",
      "source": [
        "#Graph for mean hits, double hits, triple hits, and homeruns\n",
        "\n",
        "hitter_stat = [['Hits', 'Double Hits', 'Triple Hits', 'Home Runs']]\n",
        "x_points = np.arange(len(hitter_stat))\n",
        "\n",
        "\n",
        "#plt.bar(x_points-1, hof_hits, width = 0.2, label = 'HOF')\n",
        "#plt.bar(x_points -.8, nonhof_hits, width = 0.2, label = 'Non HOF')\n",
        "\n",
        "plt.bar(x_points - 0.4, hof_doublehits, width = 0.2, label = 'HOF Double', color = 'blue')\n",
        "plt.bar(x_points - 0.2, nonhof_doublehits, width = 0.2, label = 'Non HOF Double', color = 'red')\n",
        "\n",
        "plt.bar(x_points , hof_triplehits, width = 0.2, label = 'HOF Triple', color = 'blue')\n",
        "plt.bar(x_points + 0.2, nonhof_triplehits, width = 0.2, label = 'Non HOF Triple', color = 'red')\n",
        "\n",
        "plt.bar(x_points + 0.4, hof_homeruns, width = 0.2, label = 'HOF Home', color = 'blue')\n",
        "plt.bar(x_points + 0.6, nonhof_homeruns, width = 0.2, label = 'Non HOF Home', color = 'red')\n",
        "\n",
        "plt.xticks(x_points, hitter_stat)\n",
        "plt.legend()\n",
        "\n",
        "plt.ylabel('Values')\n",
        "plt.title('Mean stats in HOF vs non HOF')\n",
        "\n",
        "plt.show()"
      ],
      "metadata": {
        "colab": {
          "base_uri": "https://localhost:8080/",
          "height": 452
        },
        "id": "N9HFRl--n38q",
        "outputId": "e83856e9-677e-42df-a52c-7a12ac432f31"
      },
      "execution_count": null,
      "outputs": [
        {
          "output_type": "display_data",
          "data": {
            "text/plain": [
              "<Figure size 640x480 with 1 Axes>"
            ],
            "image/png": "[encoded data removed]"
          },
          "metadata": {}
        }
      ]
    },
    {
      "cell_type": "code",
      "source": [
        "#Graph for runs batted in\n",
        "\n",
        "runsbattedin_stat = ['Runs Batted In']\n",
        "x_points = np.arange(len(runsbattedin_stat))\n",
        "\n",
        "\n",
        "plt.bar(x_points - 0.2, hof_runsbattedin, width = 0.4, label = 'HOF')\n",
        "plt.bar(x_points + 0.2, nonhof_runsbattedin, width = 0.4, label = 'Non HOF')\n",
        "\n",
        "plt.xticks(x_points, runsbattedin_stat)\n",
        "plt.legend()\n",
        "\n",
        "plt.ylabel('Values')\n",
        "plt.title('Mean stats in HOF vs non HOF')\n",
        "\n",
        "plt.show()"
      ],
      "metadata": {
        "colab": {
          "base_uri": "https://localhost:8080/",
          "height": 452
        },
        "id": "OTuhL0-Nn-22",
        "outputId": "d57c2034-54b7-4c88-e620-2def3ca1f75c"
      },
      "execution_count": null,
      "outputs": [
        {
          "output_type": "display_data",
          "data": {
            "text/plain": [
              "<Figure size 640x480 with 1 Axes>"
            ],
            "image/png": "[encoded data removed]"
          },
          "metadata": {}
        }
      ]
    },
    {
      "cell_type": "code",
      "source": [
        "homeruns_stat = ['Home Runs']\n",
        "x_points = np.arange(len(homeruns_stat))\n",
        "\n",
        "\n",
        "plt.bar(x_points - 0.2, hof_homeruns, width = 0.4, label = 'HOF')\n",
        "plt.bar(x_points + 0.2, nonhof_homeruns, width = 0.4, label = 'Non HOF')\n",
        "\n",
        "plt.xticks(x_points, homeruns_stat)\n",
        "plt.legend()\n",
        "\n",
        "plt.ylabel('Values')\n",
        "plt.title('Mean stats in HOF vs non HOF')\n",
        "\n",
        "plt.show()\n"
      ],
      "metadata": {
        "colab": {
          "base_uri": "https://localhost:8080/",
          "height": 452
        },
        "id": "Z_-aE9Iuhdy5",
        "outputId": "4d5c1e17-2af3-414d-e557-f12f955f9125"
      },
      "execution_count": null,
      "outputs": [
        {
          "output_type": "display_data",
          "data": {
            "text/plain": [
              "<Figure size 640x480 with 1 Axes>"
            ],
            "image/png": "[encoded data removed]"
          },
          "metadata": {}
        }
      ]
    },
    {
      "cell_type": "code",
      "source": [
        "#Graph for percents of mean hits, double hits, triple hits, and homeruns\n",
        "\n",
        "hof_singles = hof_hits - hof_doublehits - hof_triplehits - hof_homeruns\n",
        "nonhof_singles = nonhof_hits - nonhof_doublehits - nonhof_triplehits - nonhof_homeruns\n",
        "\n",
        "hof_singlespercent = 100*(hof_singles/hof_hits)\n",
        "nonhof_singlespercent = 100*(nonhof_singles/nonhof_hits)\n",
        "\n",
        "\n",
        "hof_doublespercent = 100*(hof_doublehits/hof_hits)\n",
        "nonhof_doublespercent = 100 * (nonhof_doublehits/nonhof_hits)\n",
        "\n",
        "hof_triplespercent = 100*(hof_triplehits/hof_hits)\n",
        "nonhof_triplespercent = 100*(nonhof_triplehits/nonhof_hits)\n",
        "\n",
        "hof_homepercent = 100*(hof_homeruns/hof_hits)\n",
        "nonhof_homepercent = 100*(nonhof_homeruns/nonhof_hits)\n",
        "\n",
        "\n",
        "print(hof_doublespercent)\n",
        "print(nonhof_doublespercent)\n",
        "\n",
        "print(hof_triplespercent)\n",
        "print(nonhof_triplespercent)\n",
        "\n",
        "print(hof_homepercent)\n",
        "print(nonhof_homepercent)\n",
        "\n",
        "\n",
        "hitter_stat = [['Single Hits', 'Double Hits', 'Triple Hits', 'Home Runs']]\n",
        "x_points = np.arange(len(hitter_stat))\n",
        "\n",
        "\n",
        "plt.bar(x_points - .8, hof_singlespercent, width = 0.2, label = 'HOF Single', color = 'red')\n",
        "plt.bar(x_points -.6, nonhof_singlespercent, width = 0.2, label = 'Non HOF Single', color = 'blue')\n",
        "\n",
        "plt.bar(x_points - 0.4, hof_doublespercent, width = 0.2, label = 'HOF Double', color = 'red')\n",
        "plt.bar(x_points - 0.2, nonhof_doublespercent, width = 0.2, label = 'Non HOF Double', color = 'blue')\n",
        "\n",
        "plt.bar(x_points , hof_triplespercent, width = 0.2, label = 'HOF Triple', color = 'red')\n",
        "plt.bar(x_points + 0.2, nonhof_triplespercent, width = 0.2, label = 'Non HOF Triple', color = 'blue')\n",
        "\n",
        "plt.bar(x_points + 0.4, hof_homepercent, width = 0.2, label = 'HOF Home', color = 'red')\n",
        "plt.bar(x_points + 0.6, nonhof_homepercent, width = 0.2, label = 'Non HOF Home', color = 'blue')\n",
        "\n",
        "plt.xticks(x_points, hitter_stat)\n",
        "plt.legend()\n",
        "\n",
        "plt.ylabel('Percent')\n",
        "plt.title('Percent of Hitter Stats of Total Hits (Means)')\n",
        "\n",
        "plt.show()"
      ],
      "metadata": {
        "colab": {
          "base_uri": "https://localhost:8080/",
          "height": 211
        },
        "id": "I2SjYZMO4fjM",
        "outputId": "2480a2d4-78d2-4c98-cef0-261e6daacd57"
      },
      "execution_count": 8,
      "outputs": [
        {
          "output_type": "error",
          "ename": "NameError",
          "evalue": "name 'hof_hits' is not defined",
          "traceback": [
            "\u001b[0;31m---------------------------------------------------------------------------\u001b[0m",
            "\u001b[0;31mNameError\u001b[0m                                 Traceback (most recent call last)",
            "\u001b[0;32m/tmp/ipython-input-3085104373.py\u001b[0m in \u001b[0;36m<cell line: 0>\u001b[0;34m()\u001b[0m\n\u001b[1;32m      1\u001b[0m \u001b[0;31m#Graph for percents of mean hits, double hits, triple hits, and homeruns\u001b[0m\u001b[0;34m\u001b[0m\u001b[0;34m\u001b[0m\u001b[0m\n\u001b[1;32m      2\u001b[0m \u001b[0;34m\u001b[0m\u001b[0m\n\u001b[0;32m----> 3\u001b[0;31m \u001b[0mhof_singles\u001b[0m \u001b[0;34m=\u001b[0m \u001b[0mhof_hits\u001b[0m \u001b[0;34m-\u001b[0m \u001b[0mhof_doublehits\u001b[0m \u001b[0;34m-\u001b[0m \u001b[0mhof_triplehits\u001b[0m \u001b[0;34m-\u001b[0m \u001b[0mhof_homeruns\u001b[0m\u001b[0;34m\u001b[0m\u001b[0;34m\u001b[0m\u001b[0m\n\u001b[0m\u001b[1;32m      4\u001b[0m \u001b[0mnonhof_singles\u001b[0m \u001b[0;34m=\u001b[0m \u001b[0mnonhof_hits\u001b[0m \u001b[0;34m-\u001b[0m \u001b[0mnonhof_doublehits\u001b[0m \u001b[0;34m-\u001b[0m \u001b[0mnonhof_triplehits\u001b[0m \u001b[0;34m-\u001b[0m \u001b[0mnonhof_homeruns\u001b[0m\u001b[0;34m\u001b[0m\u001b[0;34m\u001b[0m\u001b[0m\n\u001b[1;32m      5\u001b[0m \u001b[0;34m\u001b[0m\u001b[0m\n",
            "\u001b[0;31mNameError\u001b[0m: name 'hof_hits' is not defined"
          ]
        }
      ]
    },
    {
      "cell_type": "markdown",
      "source": [
        "DAY 5\n"
      ],
      "metadata": {
        "id": "3JITWXQXoWq9"
      }
    },
    {
      "cell_type": "markdown",
      "source": [
        "T-Test\n",
        "\n",
        "1: determine if there is distinguishable player types\n",
        "\n",
        "2: Determine if difference in percent of contact vs power hitter's mean rankings"
      ],
      "metadata": {
        "id": "9kCdAAw7qEij"
      }
    },
    {
      "cell_type": "code",
      "source": [
        "#Distinguish player type\n",
        "\n",
        "\n",
        "# Contact Hitter: BA> 0.3 and HR<200\n",
        "\n",
        "data_contact = baseball_df[(baseball_df['Batting Average'] > 0.3) & (baseball_df['Home Runs'] < 200)]\n",
        "\n",
        "# Power Hitter: BA< 0.28 HR>400\n",
        "\n",
        "data_power = baseball_df[(baseball_df['Batting Average'] < 0.28) & (baseball_df['Home Runs'] > 400)]\n",
        "\n",
        "# Five Tool: BA>.28 200<HR<400\n",
        "\n",
        "#data_fivetool = baseball_df[(.3 > baseball_df['Batting Average'] > 0.28) & (200 < baseball_df['Home Runs'] < 400)]\n",
        "\n",
        "#Column to class player type\n",
        "data_contact['Player Type'] = 0\n",
        "data_power['Player Type'] = 1\n",
        "#data_fivetool['Player Type'] = 2\n",
        "\n",
        "#bball_data = pd.merge([data_contact, data_power])\n",
        "\n",
        "baseball_df = baseball_df[((baseball_df['Batting Average'] > 0.3) & (baseball_df['Home Runs'] < 200)) |\n",
        "            ((baseball_df['Home Runs'] > 400) & (baseball_df['Batting Average'] < 0.28))]\n",
        "\n",
        "\n",
        "\n",
        "\n",
        "\n"
      ],
      "metadata": {
        "id": "y77PhvenuzUu",
        "colab": {
          "base_uri": "https://localhost:8080/"
        },
        "outputId": "1ca90b9f-1dff-4096-8a5e-9505ff0910af"
      },
      "execution_count": 12,
      "outputs": [
        {
          "output_type": "stream",
          "name": "stderr",
          "text": [
            "/tmp/ipython-input-12-532361490.py:17: SettingWithCopyWarning: \n",
            "A value is trying to be set on a copy of a slice from a DataFrame.\n",
            "Try using .loc[row_indexer,col_indexer] = value instead\n",
            "\n",
            "See the caveats in the documentation: https://pandas.pydata.org/pandas-docs/stable/user_guide/indexing.html#returning-a-view-versus-a-copy\n",
            "  data_contact['Player Type'] = 0\n",
            "/tmp/ipython-input-12-532361490.py:18: SettingWithCopyWarning: \n",
            "A value is trying to be set on a copy of a slice from a DataFrame.\n",
            "Try using .loc[row_indexer,col_indexer] = value instead\n",
            "\n",
            "See the caveats in the documentation: https://pandas.pydata.org/pandas-docs/stable/user_guide/indexing.html#returning-a-view-versus-a-copy\n",
            "  data_power['Player Type'] = 1\n"
          ]
        }
      ]
    },
    {
      "cell_type": "code",
      "source": [
        "from sklearn.linear_model import LogisticRegression\n",
        "\n",
        "X = data[['HitterType']]\n",
        "y = data['HOF']\n",
        "\n",
        "\n",
        "X_train, X_test, y_train, y_test = train_test_split(X, y, test_size=0.2, random_state=42)\n",
        "\n",
        "\n",
        "model = LogisticRegression(multi_class='multinomial', random_state=42)\n",
        "model.fit(X_train, y_train)"
      ],
      "metadata": {
        "id": "2v4jW6ZhE0pN"
      },
      "execution_count": null,
      "outputs": []
    },
    {
      "cell_type": "code",
      "source": [
        "baseball_df = baseball_df[(baseball_df['Batting Average'].gt(0.3) & baseball_df['Home Runs'].lt(200)) |\n",
        "                         (baseball_df['Batting Average'].lt(0.28) & baseball_df['Home Runs'].gt(300))]\n",
        "\n",
        "# Contact\n",
        "baseball_df['HitterType'] = 0\n",
        "#Power\n",
        "baseball_df.loc[baseball_df['Home Runs'].gt(300), 'HitterType'] = 1\n",
        "\n",
        "baseball_df = baseball_df.dropna(subset=['Hall of Fame'])\n",
        "\n",
        "#KNN model\n",
        "\n",
        "X = baseball_df[['HitterType']]\n",
        "y = baseball_df['Hall of Fame']\n",
        "X_train, X_test, y_train, y_test = train_test_split(X, y, test_size=0.2, random_state=42)\n",
        "\n",
        "#\n",
        "model = KNeighborsClassifier(n_neighbors=5)\n",
        "model.fit(X_train, y_train)\n",
        "\n"
      ],
      "metadata": {
        "colab": {
          "base_uri": "https://localhost:8080/"
        },
        "id": "l2sUZl9GJHvn",
        "outputId": "76ae92a9-b735-4f01-c854-5052dce112f6"
      },
      "execution_count": 25,
      "outputs": [
        {
          "output_type": "stream",
          "name": "stdout",
          "text": [
            "Contact: 51\n",
            "Power: 16\n"
          ]
        }
      ]
    },
    {
      "cell_type": "code",
      "source": [
        "import warnings\n",
        "warnings.filterwarnings('ignore')\n",
        "\n",
        "import numpy as np\n",
        "import pandas as pd\n",
        "import matplotlib.pyplot as plt\n",
        "\n",
        "from sklearn import datasets, model_selection, metrics"
      ],
      "metadata": {
        "id": "PwTF2YXEYXM1"
      },
      "execution_count": 10,
      "outputs": []
    },
    {
      "cell_type": "code",
      "source": [
        "from sklearn.neighbors import KNeighborsClassifier\n",
        "from sklearn import model_selection\n",
        "\n",
        "# Single KNN model\n",
        "\n",
        "baseball_df = baseball_df[(baseball_df['Batting Average'] > 0.3) & (baseball_df['Home Runs'] < 200) |\n",
        "                         (baseball_df['Batting Average'] < 0.28) & (baseball_df['Home Runs'] > 300)]\n",
        "\n",
        "# Contact\n",
        "baseball_df['HitterType'] = 0\n",
        "#Power\n",
        "baseball_df.loc[baseball_df['Home Runs'].gt(300), 'HitterType'] = 1\n",
        "\n",
        "X = baseball_df[['Batting Average', 'Home Runs', 'HitterType']]\n",
        "y = baseball_df['Hall of Fame']\n",
        "\n",
        "X_train, X_test, y_train, y_test = model_selection.train_test_split(X, y, test_size=0.2, random_state=42)\n",
        "\n",
        "\n",
        "model = KNeighborsClassifier(n_neighbors=9)\n",
        "model.fit(X_train, y_train)\n",
        "\n",
        "pred = model.predict(X_test)\n",
        "\n",
        "\n",
        "probs_all = model.predict_proba(X)[:, 1] * 100\n",
        "baseball_df['HOF_Chance'] = probs_all\n",
        "\n",
        "contact_avg_prob = baseball_df[baseball_df['HitterType'] == 0]['HOF_Chance'].mean()\n",
        "power_avg_prob = baseball_df[baseball_df['HitterType'] == 1]['HOF_Chance'].mean()\n",
        "\n",
        "print(\"Contact HOF %:\", contact_avg_prob)\n",
        "print(\"Power HOF %:\", power_avg_prob)"
      ],
      "metadata": {
        "colab": {
          "base_uri": "https://localhost:8080/"
        },
        "id": "DYC9LHIpnlJJ",
        "outputId": "612d00fb-b663-4096-c348-14050949385a"
      },
      "execution_count": 36,
      "outputs": [
        {
          "output_type": "stream",
          "name": "stdout",
          "text": [
            "Contact HOF %: 60.56644880174291\n",
            "Power HOF %: 25.36687631027253\n"
          ]
        }
      ]
    },
    {
      "cell_type": "code",
      "source": [
        "accuracy = metrics.accuracy_score(y_test, pred)\n",
        "print(accuracy)"
      ],
      "metadata": {
        "colab": {
          "base_uri": "https://localhost:8080/"
        },
        "id": "H7qK1F8smrlv",
        "outputId": "a9779731-3688-4de0-c54b-71fec3e3bd63"
      },
      "execution_count": 37,
      "outputs": [
        {
          "output_type": "stream",
          "name": "stdout",
          "text": [
            "0.7619047619047619\n"
          ]
        }
      ]
    },
    {
      "cell_type": "code",
      "source": [
        "#COnfusion Matrix\n",
        "\n",
        "metrics.ConfusionMatrixDisplay.from_predictions(y_test,pred,display_labels = (\"Contact\", \"Power\"))"
      ],
      "metadata": {
        "colab": {
          "base_uri": "https://localhost:8080/",
          "height": 472
        },
        "id": "2QBCx4BScEKm",
        "outputId": "e082494e-1a47-469c-b0ae-8ba80a503d1f"
      },
      "execution_count": 39,
      "outputs": [
        {
          "output_type": "execute_result",
          "data": {
            "text/plain": [
              "<sklearn.metrics._plot.confusion_matrix.ConfusionMatrixDisplay at 0x79bb13c14910>"
            ]
          },
          "metadata": {},
          "execution_count": 39
        },
        {
          "output_type": "display_data",
          "data": {
            "text/plain": [
              "<Figure size 640x480 with 2 Axes>"
            ],
            "image/png": "[encoded data removed]"
          },
          "metadata": {}
        }
      ]
    }
  ]
}